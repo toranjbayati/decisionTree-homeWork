{
 "cells": [
  {
   "cell_type": "code",
   "execution_count": 25,
   "id": "5fe65669",
   "metadata": {},
   "outputs": [
    {
     "name": "stdout",
     "output_type": "stream",
     "text": [
      "Please Enter Patron state: full\n",
      "Please Enter the Wait Estimate time: 18\n",
      "Are you Hungry?yes\n",
      "Is there any alternate? yes\n",
      "Is it raining? yes\n",
      "yes\n"
     ]
    }
   ],
   "source": [
    "patrons = input(\"Please Enter Patron state: \")\n",
    "if patrons == 'none':\n",
    "    print('No')\n",
    "elif patrons == 'some':\n",
    "    print('Yes')\n",
    "elif patrons == 'full':\n",
    "    waitEstimate = int(input('Please Enter the Wait Estimate time: '))\n",
    "    if waitEstimate > 60 :\n",
    "        print('No')\n",
    "    elif 30 < waitEstimate <= 60:\n",
    "        alternate = input('Please Enter the alternate status: ')\n",
    "        if alternate == 'no':\n",
    "            reservation = input('Please Enter the reservation status: ')\n",
    "            if reservation == 'yes':\n",
    "                print('Yes')\n",
    "            elif reservation == 'no':\n",
    "                bar = input('Please Enter the Bar status: ')\n",
    "                if bar == 'yes':\n",
    "                    print('yes')\n",
    "                if bar == 'no' :\n",
    "                    print('No')\n",
    "        elif alternate == yes :\n",
    "            FS = input('Are Friday / Saturday your alternate?')\n",
    "            if Fs == 'no':\n",
    "                print('No')\n",
    "            elif Fs == 'yes':\n",
    "                print('yes')\n",
    "    elif 10 < waitEstimate <= 30:\n",
    "        hungry = input('Are you Hungry?')\n",
    "        if hungry == 'no':\n",
    "            print('Yes')\n",
    "        elif hungry == 'yes':\n",
    "            alternate_10_30 = input('Is there any alternate? ')\n",
    "            if alternate_10_30 == 'no':\n",
    "                print('yes')\n",
    "            elif alternate_10_30 == 'yes':\n",
    "                raining = input('Is it raining? ')\n",
    "                if raining == 'yes':\n",
    "                    print('yes')\n",
    "                else:\n",
    "                    print('No')\n",
    "    elif 0 <= waitEstimate <= 10:\n",
    "        print('Yes')\n",
    "    else:\n",
    "        print('Please Enter the correct time between 0 - 60: ')\n",
    "else:\n",
    "    print('Please Enter the correct Value: (none, some , full)')\n"
   ]
  },
  {
   "cell_type": "code",
   "execution_count": null,
   "id": "ca0e2d10",
   "metadata": {},
   "outputs": [],
   "source": []
  },
  {
   "cell_type": "code",
   "execution_count": null,
   "id": "4b7d0f71",
   "metadata": {},
   "outputs": [],
   "source": []
  },
  {
   "cell_type": "code",
   "execution_count": null,
   "id": "d9cd794e",
   "metadata": {},
   "outputs": [],
   "source": [
    "\n"
   ]
  }
 ],
 "metadata": {
  "kernelspec": {
   "display_name": "Python 3 (ipykernel)",
   "language": "python",
   "name": "python3"
  },
  "language_info": {
   "codemirror_mode": {
    "name": "ipython",
    "version": 3
   },
   "file_extension": ".py",
   "mimetype": "text/x-python",
   "name": "python",
   "nbconvert_exporter": "python",
   "pygments_lexer": "ipython3",
   "version": "3.10.10"
  }
 },
 "nbformat": 4,
 "nbformat_minor": 5
}
